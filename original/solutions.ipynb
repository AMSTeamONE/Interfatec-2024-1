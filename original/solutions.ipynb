{
 "cells": [
  {
   "cell_type": "code",
   "execution_count": 1,
   "metadata": {},
   "outputs": [],
   "source": [
    "users = int(input())\n",
    "views = [[input().split() for _ in range(6)] for _ in range(users)]\n",
    "1\n",
    "# pra cada usuário, 6x3"
   ]
  },
  {
   "cell_type": "code",
   "execution_count": 6,
   "metadata": {},
   "outputs": [
    {
     "name": "stdout",
     "output_type": "stream",
     "text": [
      "76786734876\n"
     ]
    }
   ],
   "source": [
    "#PROBLEMA B\n",
    "\n",
    "qtd = 1\n",
    "# words = [input() for _ in range(qtd)]\n",
    "words = [\"PORTOSEGURO\"]\n",
    "\n",
    "mapping = {\n",
    "    \"A\": 2,\n",
    "    \"B\": 2,\n",
    "    \"C\": 2,\n",
    "    \"D\": 3,\n",
    "    \"E\": 3,\n",
    "    \"F\": 3,\n",
    "    \"G\": 4,\n",
    "    \"H\": 4,\n",
    "    \"I\": 4,\n",
    "    \"J\": 5,\n",
    "    \"K\": 5,\n",
    "    \"L\": 5,\n",
    "    \"M\": 6,\n",
    "    \"N\": 6,\n",
    "    \"O\": 6,\n",
    "    \"P\": 7,\n",
    "    \"Q\": 7,\n",
    "    \"R\": 7,\n",
    "    \"S\": 7,\n",
    "    \"T\": 8,\n",
    "    \"U\": 8,\n",
    "    \"V\": 8,\n",
    "    \"W\": 9,\n",
    "    \"X\": 9,\n",
    "    \"Y\": 9,\n",
    "    \"Z\": 9,\n",
    "}\n",
    "\n",
    "def word2num(word: str):\n",
    "    return \"\".join(str(mapping[c]) for c in word)\n",
    "    # for c in word:\n",
    "\n",
    "for word in words:\n",
    "    print(word2num(word))\n"
   ]
  },
  {
   "cell_type": "code",
   "execution_count": 7,
   "metadata": {},
   "outputs": [
    {
     "name": "stdout",
     "output_type": "stream",
     "text": [
      "20\n"
     ]
    }
   ],
   "source": [
    "# PROBLEMA H\n",
    "# nums = map(int, input().split())\n",
    "nums = [10, 20, 30]\n",
    "res = [n for n in nums if (n != min(nums) and n != max(nums)) or nums.count(n) > 1]\n",
    "print(res[0])"
   ]
  },
  {
   "cell_type": "code",
   "execution_count": 26,
   "metadata": {},
   "outputs": [
    {
     "name": "stdout",
     "output_type": "stream",
     "text": [
      "STICH GANHOU\n"
     ]
    }
   ],
   "source": [
    "# PROBLEMA J\n",
    "qtd = int(input)\n",
    "# qtd = 2\n",
    "names = [input() for _ in range(qtd)]\n",
    "# names = [\"LILO\", \"STICH\"]\n",
    "points = [0 for _ in range(qtd)]\n",
    "qtd_rodadas = int(input())\n",
    "# qtd_rodadas = 3\n",
    "rodadas = [\n",
    "    (\n",
    "        sum(map(int, input().split())), # total de palitos\n",
    "        list(map(int, input().split())) # palpite de cada um\n",
    "    )\n",
    "    for _ in range(qtd_rodadas)\n",
    "]\n",
    "# rodadas = [[2, [3, 2]], [1, [4, 1]], [3, [3, 1]]]\n",
    "\n",
    "def winner_rodada(rodada):\n",
    "    # proximidade = [abs(rodada[0] - rodada[1][i]) for i in range(qtd)]\n",
    "    for i in range(qtd):\n",
    "        if rodada[0] - rodada[1][i] == 0:\n",
    "            points[i] += 1\n",
    "    # print(proximidade)\n",
    "\n",
    "for rodada in rodadas:\n",
    "    winner_rodada(rodada)\n",
    "\n",
    "if len([p for p in points if p == max(points)]) > 1:\n",
    "    print(\"EMPATE\")\n",
    "else:\n",
    "    print(names[points.index(max(points))], \"GANHOU\")"
   ]
  },
  {
   "cell_type": "code",
   "execution_count": 18,
   "metadata": {},
   "outputs": [
    {
     "name": "stdout",
     "output_type": "stream",
     "text": [
      "nao\n"
     ]
    }
   ],
   "source": [
    "# problema K\n",
    "num = int(input())\n",
    "# num = 999983\n",
    "print(\"sim\" if len([n for n in range(1, num + 1) if num % n == 0]) == 3 else \"nao\")"
   ]
  },
  {
   "cell_type": "code",
   "execution_count": 50,
   "metadata": {},
   "outputs": [
    {
     "name": "stdout",
     "output_type": "stream",
     "text": [
      "Placa invalida\n"
     ]
    }
   ],
   "source": [
    "# PROBLEMA F\n",
    "import re\n",
    "placa = input()\n",
    "patterns = [\n",
    "    (r\"[AP]\\d{1,5}\", \"muito antiga\"),\n",
    "    (r\"^\\d{,7}$\", \"numerica\"),\n",
    "    (r\"^[A-Z]{2}\\d{4}$\", \"AA-9999\"),\n",
    "    (r\"^[A-Z]{3}\\d{4}$\", \"AAA-9999\"),\n",
    "    (r\"^[A-Z]{3}\\d{1}[A-Z]{1}\\d{2}$\", \"Mercosul\")\n",
    "]\n",
    "\n",
    "def get_type(placa):\n",
    "    for p, name in patterns:\n",
    "        if re.search(p, placa) is not None:\n",
    "            return f\"Placa {name}\"\n",
    "    \n",
    "    return \"Placa invalida\"\n",
    "\n",
    "print(get_type(placa))"
   ]
  },
  {
   "cell_type": "code",
   "execution_count": 5,
   "metadata": {},
   "outputs": [
    {
     "name": "stdout",
     "output_type": "stream",
     "text": [
      "fretepago\n"
     ]
    }
   ],
   "source": [
    "# PROBLEMA C\n",
    "import itertools as it\n",
    "carrinho, qtd_prods = [34, 10]\n",
    "# carrinho, qtd_prods = list(map(int, input().split()))\n",
    "valores = [50, 30, 33, 91, 68, 40, 30, 32, 41, 38]\n",
    "# valores = [int(input()) for _ in range(qtd_prods)]\n",
    "\n",
    "def calc_frete():\n",
    "    for trio in it.combinations(valores, 3):\n",
    "        if sum(trio) + carrinho == 200:\n",
    "            return \"fretegratis\"\n",
    "    return \"fretepago\"\n",
    "\n",
    "print(calc_frete())"
   ]
  },
  {
   "cell_type": "code",
   "execution_count": 74,
   "metadata": {},
   "outputs": [
    {
     "name": "stdout",
     "output_type": "stream",
     "text": [
      "-16.82 51.16\n"
     ]
    }
   ],
   "source": [
    "# Problema D\n",
    "from math import sin, cos, degrees, radians\n",
    "qtd_points, angle = 1, radians(40)\n",
    "(40)\n",
    "points = [(20, 50)]\n",
    "\n",
    "for p in points:\n",
    "    x = (p[0] * cos(angle)) - (p[1] * sin(angle))\n",
    "    y = (p[0] * sin(angle)) + (p[1] * cos(angle))\n",
    "    print(\"{:.2f} {:.2f}\".format(x, y))\n"
   ]
  },
  {
   "cell_type": "code",
   "execution_count": 17,
   "metadata": {},
   "outputs": [
    {
     "name": "stdout",
     "output_type": "stream",
     "text": [
      "[('ABC01', 1), ('DRG32', 2), ('O2932', 0)]\n"
     ]
    }
   ],
   "source": [
    "# PROBLEMA E\n",
    "\n",
    "# qtd_perfis = int(input())\n",
    "qtd_perfis = 4\n",
    "# qtd_por_perfil = list(map(int, input().split()))\n",
    "qtd_por_perfil = [2, 1, 3, 1]\n",
    "qtd_regions = 3\n",
    "regions = [(\"ABC01\", [5, 3, 8, 1]), (\"DRG32\", [7, 9, 8, 4]), (\"O2932\", [3, 3, 2, 9])]\n",
    "\n",
    "# for _ in range(qtd_regions):\n",
    "#     in_str = input().split()\n",
    "#     regions.append((in_str[0], list(map(int, in_str[1:]))))\n",
    "\n",
    "res = []\n",
    "\n",
    "for region in regions:\n",
    "    res.append((region[0], min(map(lambda p: p[0]//p[1], zip(region[1], qtd_por_perfil)))))\n",
    "\n",
    "print(res)"
   ]
  },
  {
   "cell_type": "code",
   "execution_count": null,
   "metadata": {},
   "outputs": [],
   "source": [
    "# PROBLEMA G\n",
    "qtd_max_vagas = int(input())\n",
    "cadastros = []\n",
    "entrada = \"tananan\"\n",
    "while entrada != \"\":\n",
    "    entrada = input().split()\n",
    "    cadastros.append(entrada[0], list(map(int, entrada[1:])))\n",
    "    # entrada\n",
    "print(cadastros)"
   ]
  },
  {
   "cell_type": "code",
   "execution_count": 4,
   "metadata": {},
   "outputs": [
    {
     "name": "stdout",
     "output_type": "stream",
     "text": [
      "(1, 4)\n"
     ]
    }
   ],
   "source": [
    "# PROBLEMA L\n",
    "def swap(c):\n",
    "    match c:\n",
    "        case 'A': return 'T'\n",
    "        case 'T': return 'A'\n",
    "        case 'C': return 'G'\n",
    "        case 'G': return 'C'\n",
    "\n",
    "def analyse_strand(strand: str):\n",
    "    for i in range(len(strand)):\n",
    "        for j in range(i + 1, len(strand)):\n",
    "            window = strand[i:j+1]\n",
    "            # print(window)\n",
    "            # print([swap(c) for c in window])\n",
    "            # print(list(reversed(window)))\n",
    "            if [swap(c) for c in window] == list(reversed(window)) and len(window) > 2:\n",
    "                return i + 1, len(window)\n",
    "    return False\n",
    "\n",
    "print(analyse_strand(\"AATT\"))"
   ]
  }
 ],
 "metadata": {
  "kernelspec": {
   "display_name": "Python 3",
   "language": "python",
   "name": "python3"
  },
  "language_info": {
   "codemirror_mode": {
    "name": "ipython",
    "version": 3
   },
   "file_extension": ".py",
   "mimetype": "text/x-python",
   "name": "python",
   "nbconvert_exporter": "python",
   "pygments_lexer": "ipython3",
   "version": "3.12.3"
  }
 },
 "nbformat": 4,
 "nbformat_minor": 2
}
